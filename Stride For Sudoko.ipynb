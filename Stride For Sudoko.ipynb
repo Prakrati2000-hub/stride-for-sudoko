{
 "cells": [
  {
   "cell_type": "markdown",
   "metadata": {},
   "source": [
    "# Stride Tricks For Suduko\n",
    "The ndarray class has a strides ield, which is a tuple indicating the number of bytes to\n",
    "step in each dimension when going through an array. Let's apply some stride tricks to the\n",
    "problem of splitting a Sudoku puzzle into the 3 x 3 squares it is composed of.\n"
   ]
  },
  {
   "cell_type": "markdown",
   "metadata": {},
   "source": [
    "Apply the stride tricks as follows:\n",
    "1. Let's deine the sudoku array. This array is illed with the contents of an actual,\n",
    "solved Sudoku puzzle:\n",
    "sudoku = np.array([\n",
    " [2, 8, 7, 1, 6, 5, 9, 4, 3],\n",
    " [9, 5, 4, 7, 3, 2, 1, 6, 8],\n",
    " [6, 1, 3, 8, 4, 9, 7, 5, 2],\n",
    " [8, 7, 9, 6, 5, 1, 2, 3, 4],\n",
    " [4, 2, 1, 3, 9, 8, 6, 7, 5],\n",
    " [3, 6, 5, 4, 2, 7, 8, 9, 1],\n",
    " [1, 9, 8, 5, 7, 3, 4, 2, 6],\n",
    " [5, 4, 2, 9, 1, 6, 3, 8, 7],\n",
    " [7, 3, 6, 2, 8, 4, 5, 1, 9]\n",
    " ])"
   ]
  },
  {
   "cell_type": "markdown",
   "metadata": {},
   "source": [
    "2.The itemsize ield of ndarray gives us the number of bytes in an array. Given the\n",
    "itemsize calculate the strides:\n",
    "strides = sudoku.itemsize * np.array([27, 3, 9, 1])"
   ]
  },
  {
   "cell_type": "markdown",
   "metadata": {},
   "source": [
    "3. Now we can split the puzzle into squares with the as_strided() function of the\n",
    "np.lib.stride_tricks module:\n",
    "squares = np.lib.stride_tricks.as_strided\n",
    " (sudoku, shape=shape, strides=strides)\n",
    "print(squares)\n",
    "The code prints separate Sudoku squares, as follows:\n",
    "[[[[2 8 7]\n",
    " [9 5 4]\n",
    " [6 1 3]]\n",
    " [[1 6 5]\n",
    " [7 3 2]\n",
    " [8 4 9]]\n",
    " [[9 4 3]\n",
    " [1 6 8]\n",
    " [7 5 2]]]\n",
    " [[[8 7 9]\n",
    " [4 2 1]\n",
    "   [3 6 5]]\n",
    " [[6 5 1]\n",
    " [3 9 8]\n",
    " [4 2 7]]\n",
    " [[2 3 4]\n",
    " [6 7 5]\n",
    " [8 9 1]]]\n",
    " [[[1 9 8]\n",
    " [5 4 2]\n",
    " [7 3 6]]\n",
    " [[5 7 3]\n",
    " [9 1 6]\n",
    " [2 8 4]]\n",
    " [[4 2 6]\n",
    " [3 8 7]\n",
    " [5 1 9]]]]\n"
   ]
  },
  {
   "cell_type": "markdown",
   "metadata": {},
   "source": [
    "The following is the complete source code for this recipe from the strides.py\n",
    "ile in this book's code bundle:"
   ]
  },
  {
   "cell_type": "code",
   "execution_count": 7,
   "metadata": {},
   "outputs": [],
   "source": [
    "import numpy as np;"
   ]
  },
  {
   "cell_type": "markdown",
   "metadata": {},
   "source": [
    "Let's deine the sudoku array. This array is illed with the contents of an actual, solved Sudoku puzzle:"
   ]
  },
  {
   "cell_type": "code",
   "execution_count": 8,
   "metadata": {},
   "outputs": [
    {
     "name": "stdout",
     "output_type": "stream",
     "text": [
      "[[2 8 7 1 6 5 9 4 3]\n",
      " [9 5 4 7 3 2 1 6 8]\n",
      " [6 1 3 8 4 9 7 5 2]\n",
      " [8 7 9 6 5 1 2 3 4]\n",
      " [4 2 1 3 9 8 6 7 5]\n",
      " [3 6 5 4 2 7 8 9 1]\n",
      " [1 9 8 5 7 3 4 2 6]\n",
      " [5 4 2 9 1 6 3 8 7]\n",
      " [7 3 6 2 8 4 5 1 9]]\n"
     ]
    }
   ],
   "source": [
    "sudoku = np.array([    [2, 8, 7, 1, 6, 5, 9, 4, 3],   \n",
    "                       [9, 5, 4, 7, 3, 2, 1, 6, 8],    \n",
    "                       [6, 1, 3, 8, 4, 9, 7, 5, 2],\n",
    "                       [8, 7, 9, 6, 5, 1, 2, 3, 4], \n",
    "                       [4, 2, 1, 3, 9, 8, 6, 7, 5],\n",
    "                       [3, 6, 5, 4, 2, 7, 8, 9, 1],   \n",
    "                       [1, 9, 8, 5, 7, 3, 4, 2, 6], \n",
    "                       [5, 4, 2, 9, 1, 6, 3, 8, 7],\n",
    "                       [7, 3, 6, 2, 8, 4, 5, 1, 9]    ]) \n",
    "print(sudoku)"
   ]
  },
  {
   "cell_type": "code",
   "execution_count": 18,
   "metadata": {},
   "outputs": [
    {
     "name": "stdout",
     "output_type": "stream",
     "text": [
      "[[[[2 8 7]\n",
      "   [9 5 4]\n",
      "   [6 1 3]]\n",
      "\n",
      "  [[1 6 5]\n",
      "   [7 3 2]\n",
      "   [8 4 9]]\n",
      "\n",
      "  [[9 4 3]\n",
      "   [1 6 8]\n",
      "   [7 5 2]]]\n",
      "\n",
      "\n",
      " [[[8 7 9]\n",
      "   [4 2 1]\n",
      "   [3 6 5]]\n",
      "\n",
      "  [[6 5 1]\n",
      "   [3 9 8]\n",
      "   [4 2 7]]\n",
      "\n",
      "  [[2 3 4]\n",
      "   [6 7 5]\n",
      "   [8 9 1]]]\n",
      "\n",
      "\n",
      " [[[1 9 8]\n",
      "   [5 4 2]\n",
      "   [7 3 6]]\n",
      "\n",
      "  [[5 7 3]\n",
      "   [9 1 6]\n",
      "   [2 8 4]]\n",
      "\n",
      "  [[4 2 6]\n",
      "   [3 8 7]\n",
      "   [5 1 9]]]]\n"
     ]
    }
   ],
   "source": [
    "shape = (3, 3, 3, 3)\n",
    "strides = sudoku.itemsize * np.array([27, 3, 9, 1])\n",
    "squares = np.lib.stride_tricks.as_strided(sudoku, shape=shape, strides=strides)\n",
    "print(squares)\n"
   ]
  }
 ],
 "metadata": {
  "kernelspec": {
   "display_name": "Python 3",
   "language": "python",
   "name": "python3"
  },
  "language_info": {
   "codemirror_mode": {
    "name": "ipython",
    "version": 3
   },
   "file_extension": ".py",
   "mimetype": "text/x-python",
   "name": "python",
   "nbconvert_exporter": "python",
   "pygments_lexer": "ipython3",
   "version": "3.7.4"
  }
 },
 "nbformat": 4,
 "nbformat_minor": 2
}
